{
 "metadata": {
  "language_info": {
   "codemirror_mode": {
    "name": "ipython",
    "version": 3
   },
   "file_extension": ".py",
   "mimetype": "text/x-python",
   "name": "python",
   "nbconvert_exporter": "python",
   "pygments_lexer": "ipython3",
   "version": "3.8.5-final"
  },
  "orig_nbformat": 2,
  "kernelspec": {
   "name": "python3",
   "display_name": "Python 3.8.5 64-bit",
   "metadata": {
    "interpreter": {
     "hash": "916dbcbb3f70747c44a77c7bcd40155683ae19c65e1c03b4aa3499c5328201f1"
    }
   }
  }
 },
 "nbformat": 4,
 "nbformat_minor": 2,
 "cells": [
  {
   "cell_type": "code",
   "execution_count": 3,
   "metadata": {},
   "outputs": [],
   "source": [
    "def format(fileName):\n",
    "    with open(f'{fileName}') as fr:\n",
    "      # get the text in the file\n",
    "      text = fr.read()\n",
    "      # split up the file into lines based on '.'\n",
    "      lines = text.split('.')\n",
    "\n",
    "    # open the file for writing\n",
    "    with open(f'{fileName}', 'w') as fw:\n",
    "      # loop over each line\n",
    "      for line in lines:\n",
    "        # remove leading whitespace, and write to the file with a newline\n",
    "        fw.write(line.lstrip() + '\\n')"
   ]
  },
  {
   "cell_type": "code",
   "execution_count": 4,
   "metadata": {},
   "outputs": [],
   "source": [
    "with open('back-end-script.txt') as fr:\n",
    "    text = fr.read()\n",
    "    lines = text.split('. ')"
   ]
  },
  {
   "cell_type": "code",
   "execution_count": 14,
   "metadata": {},
   "outputs": [],
   "source": [
    "with open('back-end-script.txt','w') as fw:\n",
    "    for line in lines:\n",
    "        fw.write(line.lstrip() + '\\n')"
   ]
  },
  {
   "cell_type": "code",
   "execution_count": 15,
   "metadata": {},
   "outputs": [],
   "source": [
    "with open('front-end-ui-script.txt') as fr:\n",
    "    text = fr.read()\n",
    "    lines = text.split('. ')"
   ]
  },
  {
   "cell_type": "code",
   "execution_count": 16,
   "metadata": {},
   "outputs": [],
   "source": [
    "with open('front-end-ui-script.txt','w') as fw:\n",
    "    for line in lines:\n",
    "        fw.write(line.lstrip() + '\\n')"
   ]
  },
  {
   "cell_type": "code",
   "execution_count": null,
   "metadata": {},
   "outputs": [],
   "source": []
  }
 ]
}