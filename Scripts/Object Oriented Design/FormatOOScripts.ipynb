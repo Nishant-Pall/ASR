{
 "metadata": {
  "language_info": {
   "codemirror_mode": {
    "name": "ipython",
    "version": 3
   },
   "file_extension": ".py",
   "mimetype": "text/x-python",
   "name": "python",
   "nbconvert_exporter": "python",
   "pygments_lexer": "ipython3",
   "version": "3.8.5-final"
  },
  "orig_nbformat": 2,
  "kernelspec": {
   "name": "python385jvsc74a57bd031f2aee4e71d21fbe5cf8b01ff0e069b9275f58929596ceb00d14d90e3e16cd6",
   "display_name": "Python 3.8.5 64-bit"
  },
  "metadata": {
   "interpreter": {
    "hash": "31f2aee4e71d21fbe5cf8b01ff0e069b9275f58929596ceb00d14d90e3e16cd6"
   }
  }
 },
 "nbformat": 4,
 "nbformat_minor": 2,
 "cells": [
  {
   "cell_type": "code",
   "execution_count": 13,
   "metadata": {},
   "outputs": [],
   "source": [
    "fixed_oo = open(\"fixed_oo.txt\")\n",
    "fixed_oo = fixed_oo.read().replace(\"\\n\",\"\")"
   ]
  },
  {
   "cell_type": "code",
   "execution_count": 14,
   "metadata": {},
   "outputs": [
    {
     "output_type": "execute_result",
     "data": {
      "text/plain": [
       "ance. First, you need to ask yourself,am I using inheritance to simply share attributes or behavior without furtheradding anything special in my subclasses? If the answer is yes,then you\\'re misusing inheritance. This is an indication of misuse,because there is no point for the subclasses to exists sincethe superclass already is enough. Let us say, you were designing foryour favorite pizza restaurant. You need to model all the differentvarieties of pizza that the restaurant has on the menu. Given the different combination oftoppings and names you can have for pizzas, you might be tempted todesign a system using inheritance. The pizza class has been generalized toknow what toppings it will have, its size, style of crust, andhow long it will take to cook. This seems reasonable, butLet us look at why this is a misuse of inheritance by examining the code fora subclass of pizza. Despite the fact that a pepperoni pizzais a more specific kind of pizza, it is not really differentfrom a superclass. You can see that the pepperoni constructoruses the pizza\\'s constructor and adds toppings using the pizza\\'s method. There\\'s no reason to useinheritance in this case, because you can simply use only the pizzaclass to build the pizza with pepperoni as a topping The second indication of improper use of generalization is, if youbreak the Liskov Substitution Principle. The principle states that a subclass canreplace a superclass, if and only if, the subclass does not changethe functionality of the superclass. How would this principle beviolated through inheritance? Let us take a look at this example. This is our generalized Animal class,it knows how to eat, walk, and run. Are you able to see how we canintroduce a subclass that would break the Liskov Substitution Principle? What if we had this type of animal? A whale doesn\\'t know how to run and walk. Running andwalking are behaviors of land animals. The Liskov Substitution Principleis violated here, because the whale class overridesthe animals classes running and walking functions andreplaces them with swimming behaviors. The whale no longer behaves in the waywe would expect it superclass to behave. An example of bad inheritance can beseen in the Java Collections Library. Have you ever usedthe stack class in Java? A stack is understood as first in andlast out data structure. It has a small number of well definedbehaviors like peak, pop and push. This is not the case inthe Java stack class, because the stack classinherits from the vector class. This means that the stack class is able toreturn an element at a specified index, retrieve the index of an element and eveninsert an element into a specific index. These are not behaviorsexpected from a stack, but because of poor use of inheritance,they are allowed in Java. If inheritance does not suit your need, consider whether decompositionis more appropriate. A smartphone is a good example ofwhere decomposition works better than inheritance. A smartphone has characteristicsof a phone and a camera. Here is one design. It does not make sense forus to Inherit from the phone and then add camera methods tothe subclass smartphone. We should be using decomposition toextract out the camera responsibilities, and put them in their own class. The smartphone now indirectly providesthe responsibilities of the camera in the phone. To separate part classes, the smartphone doesn\\'t need toknow how these classes work. Inheritance could be a difficultdesign principle to apply, but it is still a very powerful technique. Inheritance lets you define some classesthat are tailor made for your system, while defining common attributes andbehaviors in the superclass. Remember, that a common goal isto build reusable, flexible, and maintainable systems. Inheritance is simply one techniqueto help you reach that goal. It is important to understand thata technique is beneficial when used properly, butcan cause headaches if not. Now it\\'s time foryou to learn about Sequence Diagrams. Sequence Diagrams are used to showyour team how objects in your program interact with each otherto complete tasks. Simply put, think of a sequence diagram like a map ofconversations between different people, where this map follows all the messagessent from person to person. Let us say that a person wants to ordera burger at a local fast food restaurant, here is a simple sequencediagram of the scenario. That person will go to a restaurant andtalk to the cashier and order a burger. The cashier will then talk to the chefof the back to tell him my order. The shuffle cook the burger,give it to the cashier. And the cashier willgive it to the person. Now, Let us go into more detail, because a sequence diagram is another typeof UML diagram, to fully understand it, you should have a good grasp ofobjects and basic UML class diagrams. Knowing how to break down a systeminto classes is essential in creating meaningful sequence diagrams. A sequence diagram describes howobjects in your system interact to complete a specific task. Think back to the burger example. All of those interactions betweenthe different people were needed. Staff person could get a burger. This is similar to how objects willinteract to complete a given task. I would describe the differentcomponents of a sequence diagram first. Then later, I will elaborate moreon how to put it all together. When creating sequence diagrams, first you use a box to representrole play by an object. The role is typically labeled bythe name of the class for the object. Second, you use vertical dotted lines,known as lifelines, to represent an object as time passes by. Finally, you use arrows to show messagesthat are sent from one object to another. Now that you know the different elements, Let us put everything togetherby creating a sequence diagram. Let us use changing the channel of yourtelevision using a remote control. First, I\\'m going start by drawing a box,that will surround the entire process. This is to show that this isone sequence of activities. A sequence diagram can containother sequence diagrams within it. For example,if you are creating a sequence diagram for an ATM, there might be a differentsequence for Withdrawal and Deposits. And during a single processsomeone might want to do both. In your sequence diagram, you wouldhave one big sequence of activities with two smaller sequences inside them. Moving on, in the top corner I\\'m goingto draw a label with a meaningful title. Remember, your team will be lookingat this diagram as a reference for development, somake the titles meaningful. We will name it Change TV Channel. Next, I\\'m going to draw out the objectsthat are important in this task. To keep things clean, you should drawobjects from left to right in the sequence that they interact with each other. In this example,the TV viewer starts the entire process. The use of the remote whichwill then interact with the TV. So when are diagram, I\\'m going to drivethe TV viewer then the remote and then the TV. If there are people in your example, whowill be using or interacting with objects, this are typically drawon a stick figures. We call these people actors,in our example, the TV viewer\\'s an actor. So I\\'m going to drawthem is a stick figure, I\\'m going to the otherobjects as labeled boxes. Each of these objects has a lifeline. The lifelines you can draw as a dashedline projecting downwards from the object. Now, I\\'m going to start drawingthe messages that are sent from object to object. In a sequence diagram, if one object sendsa message to another object or objects, we denote this by drawing a solid linearrow from the sender to the receiver. To return data and to control back to initiating objects,we would use a dotted line arrow. What\\'s the first thing thathappened in this example? Let us assume the TV is already on andthe TV viewer wants to change her channel. The first thing that happens is the TVviewer presses the numbers on the remote to tell it which channel to go to. This activates both TV viewer andthe remote in our sequence diagram. When an object is activated, we denotethis on our sequence diagram using small rectangles on the objects lifeline. You activate an object wheneveran object sends, receives or it\\'s waiting for a message. The first message that is sent isfrom the TV viewer to the remote. That message says that the TVviewer pressed numbers. So I\\'m going to add this to the diagramwith a solid line arrow and label it Press Numbers, number. The remote then sends a new messageto the television to change the channel to number. We denote this on the diagram withanother solid line arrow labeled Change channel, number. This also activates the television object,so I will add a small rectangleto the television\\'s lifeline. You\\'ll notice that since a televisionwasn\\'t activated at the beginning of the example, we don\\'t want the rectangleon its lifeline to start at the same place as the TV viewer or the remote. I drew it a little bit lower onthe lifeline to indicate it was activated later in the process. Next, the television changes the channel, which the TV viewer cansee on the TV screen. This is a returning of control. that means I\\'m going to denote thisresponse using a dotted line arrow. I\\'m going to draw this arrow fromthe television object to the TV viewer. This action only affectsthe television and the TV viewer. The remote is not partof this interaction, so we do not extend the box on the remote\\'slifeline to include this action. As you design software, your sequencediagrams can get much more complicated. You can also show loops and alternativeprocesses in a sequence diagram. Let us see what these would looklike in a sequence diagram. Say the TV viewer is unsurewhat channel to go to and would like to surf the channelsuntil they find a channel they like. I can wrap the previous sequence I justdrew as part of an alternative process. So that it is a sequence of actionsthat will occur if a condition is true. So I put the sequence in a box andlabel it alt, for alternative, in the top right corner. Now, I need to specify whenthis alternative will occur. In this case, the sequence occurs if the TV viewerknew what channel they would like. We will label this alternativeTV Viewer knows what channel they want. If the TV viewer does notknow what channel they want, other sequences can occur. One sequence is that the TV viewer willbrowse to the channels until they find something to watch. So I\\'m going to drag this sequenceunderneath the previous sequence with the condition else, meaning this sequence occurs ifall other alternatives are false. However, this sequence contains a loop. I will denote that by adding and labelinga box loop on the top right corner. Right under the label, I puta conditional statement for the loop. If that statement is true,it will go through the loop. Loop sequence should continually occur ifthe TV viewer does not like the channel they are watching, so I will addthat condition to this loop box. The TV viewer is going to press the up or down arrow on the remote tobrowse through the channels. This sends a message to the remote. The remote will then send a messageto the TV with this action. Just like in the initial sequence,the TV changes the channel and displays that to the TV viewer. The final sequencediagram looks like this. Sequence diagrams are a very powerfultoo you can use to model your software. Sequence diagrams are commonly used as aplanning tool before the development team starts programming, or to show others how a system is designed. And they can help you to determinethe functions you will need to right. It might even help you find problems inyour system that you didn\\'t see before. Sequence diagram are another techniqueyou now know that will help you to create clean, well designed programs. Now it\\'s time foryou to learn about UML state diagrams. A state diagram is a technique that youcan use to describe how your system behaves and responds. When an event occurs,you note how a system acts or behaves. Let us think of a person. To make things simple, Let us say that thisperson can have three different emotional states, happy, sad and angry. State diagrams show states as nodes,like the following. You will learn more about this later, but I\\'ll draw a filled circle to indicatethe start state of this diagram. Usually I wake up happyafter a good sleep. Let us say that this personstarts their day happy too. During the day, maybe somethinghappens to anger this person. Let us say that the person accidentallystubbed their toe on a table, this would change theirstate from happy to angry. In state diagrams, arrows are used to represent events totransition from one state to another. While this person is angry, they mightnotice that it\\'s raining outside and this makes the person sad. So this would change theirstate from angry to sad. This is how a state diagram works. The state diagram follows the statesof a system or object, and shows changes betweenthe states as events occur. Right now, this is a simplifiedversion of a state diagram for the mood behavior of this person. We will go through more UML statediagram conventions and examples later. State diagrams can describe a singleobject and illustrate how that object behaves in response to a seriesof events in your system. A state diagram illustrates objectbehavior by depicting the changing states of an object. These states change andrespond to different events. A state is the way an object existsat a particular point in time. The state of an object is determinedby the values of its attributes. For example, think of a car. A car with an automatic transmission canbe in different states, park, reverse, neutral, and drive. When a car is in reverse,it can only behave in a certain way, it can move backwards. If want it to move ina forwards direction, you would have to changethe state of the car accordingly. This is how you can think aboutthe states of the objects in your system. When an object is in a certain state,it behaves in specific ways or has attributes set to specific values. Using UML state diagrams, you can expressthe different states of your objects and how the states will changewhen an event occurs. To better understand how tocreate UML state diagrams, Let us actually create one together. Let us use a vending machine asan example for our UML state diagram. First, I\\'ll indicate the start ofthis diagram with a filled circle, like we did earlier inthe mood state diagram. Every state diagram has a filled circleto indicate which is the starting state, the vending machine startsin a state named idle. This is when the vending machine iswaiting for coins to be inserted. I draw states as rounded rectangles. Let me explain states in more detail,each state has three important sections, a state name, state variables,and activities. Each state should atleast have a state name. A state name is as it sounds,the name of the state, these names should be meaningful forthe states of your object. For example, a car in reversewould have a state named reverse. Or a vending machine in a waiting, oridle state, would have a state named idle. State variables are data relevantto the state of the object. For example, using a course as an object, a relevant variable isthe number of students enrolled. The course would be in state full, ifthis variable was at the course capacity. Activities are actions that are performedwhen in a certain state, and they\\'re displayed at the bottom. There are three types of activities foreach state, entry, exit, and do. Entry activities are actions thatoccur when the state is just entered from another state. Exit activities are actions thatoccur when the state is exited and moves on to another state. And do activities are actionsthat occur once, or multiple times while the objectis in a certain state. To explain these activities, Let us use a traditional alarm clockthat uses a bell as an alarm. An entry activity forwhen a clock enters the ringing state is that the clock releasesa spring to ring a bell. When the clock leaves the ringing state, it will relock the springas an exit activity. When the clock is actuallyin its ringing state, the clock continuously rings the bell andthis is its do activity. Now back to our vending machine example. When the vending machineenters this idle state, it always displays the totalof coins inserted so far. This means it is also tracking this total. I will draw these inside the rectangle. The state variable is total, andthe entry activity will be display total. Inserting a coin is an event that couldchange the state of the vending machine. Events that could change a statelabel transitions between the states. You draw these transitions witharrows from one state to another. Each transition arrow will always have anevent, and may have a guard condition and an action. The transition and action happens froma given state if the event occurs and the condition is true. As a basic example, suppose youare finished writing an online test. For your test to go from state inprogress to submitted, the event will be, click the submit button. The condition will be,submission date is before due date, and the action will be, submit test. Again, back to our vending machine. Suppose, when in the idle state,someone inserts a coin and the total so far is less than the product price. Let us express this situation witha transition arrow that loops back to the idle state. With the event insert coin,condition total less than price, and action display insert more coins. But suppose when in the idle state,someone inserts a coin and the total equals the product price. Let us express this situation witha transition arrow to a new state, named enough coins. And label this transition with the event,insert coin, and condition, total equals price. Let us have an entry action forenough coins being, display enough coins. When in the enough coins state,we have enough payment. So if someone presses the dispense button, the vending machine shouldrelease one of the product. We\\'ll express this situation witha transition arrow from the enough coin state back to idle. And label this transition with the event,press dispense, and action, total equals zero, dispense product. In either state,if someone press the cancel button, the vending machining shouldreturn all the coins inserted. So we\\'ll express this with twotransitions from the two states. Both back to the idle state, andlabel both transitions with an event, press cancel, and action,total equals zero, eject coins. Here is the resulting state diagram. One element of state diagrams that\\'snot shown in the one we just created is termination. Termination represents an object beingdestroyed, or the process being completed, and is drawn as a circlewith a filled circle inside. For example, when using a bank machine,you can represent it returning your card at the end of the process andthus ending in termination. Not all diagrams have a terminationlike the vending machine, they may run continuously. State diagrams are useful fordescribing the behavior of a system or of a single object. For example, it can help you determine thedifferent events that might occur during an object\\'s lifetime. Like different user inputs, and how thatobject should behave when these events occur, like checking conditions andperforming actions. For the vending machine example,if I forgot to express canceling the order I could see this easier on a statediagram than looking at source code. State diagrams can also help youto find issues in your system. Like discovering a condition that you didnot plan for or help you to create tests. Knowing the different states of a systemcan help to make sure that your tests are complete and correct. State diagrams are a very powerful designtechnique that you can use to model your software\\'s behavior. Using them, along with the otherUML diagrams you\\'ve learned, will help you to createwell designed software.'"
      ]
     },
     "metadata": {},
     "execution_count": 14
    }
   ],
   "source": [
    "fixed_oo"
   ]
  },
  {
   "cell_type": "code",
   "execution_count": 1,
   "metadata": {},
   "outputs": [],
   "source": [
    "import re\n",
    "\n",
    "def decontracted(phrase):\n",
    "    # specific\n",
    "    phrase = re.sub(r\"won\\'t\", \"will not\", phrase)\n",
    "    phrase = re.sub(r\"can\\'t\", \"can not\", phrase)\n",
    "    \n",
    "    # general\n",
    "    phrase = re.sub(r\"n\\'t\", \" not\", phrase)\n",
    "    phrase = re.sub(r\"\\'re\", \" are\", phrase)\n",
    "    # phrase = re.sub(r\"\\'s\", \" is\", phrase)\n",
    "    phrase = re.sub(r\"\\'d\", \" would\", phrase)\n",
    "    phrase = re.sub(r\"\\'ll\", \" will\", phrase)\n",
    "    phrase = re.sub(r\"\\'t\", \" not\", phrase)\n",
    "    phrase = re.sub(r\"\\'ve\", \" have\", phrase)\n",
    "    phrase = re.sub(r\"\\'m\", \" am\", phrase)\n",
    "    return phrase"
   ]
  },
  {
   "cell_type": "code",
   "execution_count": 2,
   "metadata": {},
   "outputs": [
    {
     "output_type": "stream",
     "name": "stdout",
     "text": [
      "Hey I am Yann, how are you and how is it going ? That is interesting: I would love to hear more about it.\n"
     ]
    }
   ],
   "source": [
    "test = \"Hey I'm Yann, how're you and how's it going ? That's interesting: I'd love to hear more about it.\"\n",
    "print(decontracted(test))"
   ]
  },
  {
   "cell_type": "code",
   "execution_count": 15,
   "metadata": {},
   "outputs": [],
   "source": [
    "fixed_oo = decontracted(fixed_oo)"
   ]
  },
  {
   "cell_type": "code",
   "execution_count": 18,
   "metadata": {},
   "outputs": [],
   "source": [
    "fixed_script = open(\"fixed_script.txt\",\"w\")"
   ]
  },
  {
   "cell_type": "code",
   "execution_count": 19,
   "metadata": {},
   "outputs": [
    {
     "output_type": "execute_result",
     "data": {
      "text/plain": [
       "181440"
      ]
     },
     "metadata": {},
     "execution_count": 19
    }
   ],
   "source": [
    "fixed_script.write(fixed_oo)"
   ]
  },
  {
   "cell_type": "code",
   "execution_count": 20,
   "metadata": {},
   "outputs": [],
   "source": [
    "fixed_script.close()"
   ]
  },
  {
   "cell_type": "code",
   "execution_count": null,
   "metadata": {},
   "outputs": [],
   "source": []
  }
 ]
}